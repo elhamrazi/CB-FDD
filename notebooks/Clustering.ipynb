{
  "nbformat": 4,
  "nbformat_minor": 0,
  "metadata": {
    "colab": {
      "provenance": [],
      "collapsed_sections": [
        "k5ngqAmBElc7"
      ]
    },
    "kernelspec": {
      "name": "python3",
      "display_name": "Python 3"
    },
    "language_info": {
      "name": "python"
    }
  },
  "cells": [
    {
      "cell_type": "markdown",
      "source": [
        "# Clustering\n",
        "This notebook handles generating and saving clusters that are used in the CB-FDD file.  \n",
        "We explore three clustering methods in this notebook: Faiss, K-Means, and Mini-Batch K-Means."
      ],
      "metadata": {
        "id": "a8CKHMqZ-skv"
      }
    },
    {
      "cell_type": "markdown",
      "source": [
        "## Loading in dependencies and files"
      ],
      "metadata": {
        "id": "YRPRpnJ8_ZTp"
      }
    },
    {
      "cell_type": "code",
      "source": [
        "# installing dependencies from SemDeDup Code\n",
        "!git clone https://github.com/facebookresearch/SemDeDup.git"
      ],
      "metadata": {
        "colab": {
          "base_uri": "https://localhost:8080/"
        },
        "id": "T8aff5PID5Vw",
        "outputId": "7facaa56-8b1b-460f-81fb-0e5af9891b5e"
      },
      "execution_count": null,
      "outputs": [
        {
          "output_type": "stream",
          "name": "stdout",
          "text": [
            "Cloning into 'SemDeDup'...\n",
            "remote: Enumerating objects: 24, done.\u001b[K\n",
            "remote: Counting objects: 100% (24/24), done.\u001b[K\n",
            "remote: Compressing objects: 100% (21/21), done.\u001b[K\n",
            "remote: Total 24 (delta 2), reused 24 (delta 2), pack-reused 0 (from 0)\u001b[K\n",
            "Receiving objects: 100% (24/24), 1.35 MiB | 8.12 MiB/s, done.\n",
            "Resolving deltas: 100% (2/2), done.\n"
          ]
        }
      ]
    },
    {
      "cell_type": "code",
      "execution_count": null,
      "metadata": {
        "colab": {
          "base_uri": "https://localhost:8080/"
        },
        "id": "8gs-hy5Q6VPq",
        "outputId": "028eb446-e6f3-4201-b871-ec880f4e83a0"
      },
      "outputs": [
        {
          "output_type": "stream",
          "name": "stdout",
          "text": [
            "Mounted at /content/drive\n"
          ]
        }
      ],
      "source": [
        "from google.colab import drive\n",
        "drive.mount('/content/drive')"
      ]
    },
    {
      "cell_type": "code",
      "source": [
        "import pickle\n",
        "\n",
        "file_path = '/content/drive/My Drive/final_train_df.pkl'\n",
        "\n",
        "with open(file_path, 'rb') as f:\n",
        "  train_df = pickle.load(f)\n",
        "\n",
        "train_df"
      ],
      "metadata": {
        "colab": {
          "base_uri": "https://localhost:8080/",
          "height": 461
        },
        "id": "-DlWCjWo6qhH",
        "outputId": "4ca3a6d3-70ce-4ec8-93a6-d0fd0f240153"
      },
      "execution_count": null,
      "outputs": [
        {
          "output_type": "execute_result",
          "data": {
            "text/plain": [
              "        feature_0  feature_1  feature_2  feature_3  feature_4  feature_5  \\\n",
              "0        0.125711  -1.803007   1.284251  -1.808832   0.127820  -0.191196   \n",
              "1        0.189455  -1.818042   1.320364  -2.396976   0.120655  -0.262529   \n",
              "2       -0.466300  -1.172919   0.114043  -1.868590   0.553166   0.417780   \n",
              "3       -0.507073  -1.562280   0.377472  -1.541743   0.293578   0.306945   \n",
              "4       -0.200524  -1.818057   0.725834  -2.209781   0.394925  -0.662887   \n",
              "...           ...        ...        ...        ...        ...        ...   \n",
              "207309   0.084385  -1.828303   0.807940  -0.793703   0.613876  -0.215462   \n",
              "207310  -0.327731  -2.051952   1.055242  -0.676235   0.851157  -0.242834   \n",
              "207311   0.593066  -1.939155   0.648141  -2.380389   0.197016   0.044840   \n",
              "207312  -0.033412  -1.678429   0.760117  -2.032235  -0.698559  -0.458091   \n",
              "207313   0.976150  -2.210915   0.610553  -2.533222  -0.343018   0.310838   \n",
              "\n",
              "        feature_6  feature_7  feature_8  feature_9  ...  No Finding  \\\n",
              "0        0.609272   0.830579  -0.443789   1.238895  ...         1.0   \n",
              "1        0.738478   0.056799  -0.246806   0.450312  ...         1.0   \n",
              "2        0.734430   0.003140  -0.292678   0.740896  ...         1.0   \n",
              "3        0.647620  -0.074701   0.160979   0.329081  ...         1.0   \n",
              "4        0.430449   0.138520   0.443141   1.002451  ...         1.0   \n",
              "...           ...        ...        ...        ...  ...         ...   \n",
              "207309   0.361803  -0.010056   0.053416   1.002149  ...         1.0   \n",
              "207310   0.080449   0.220710  -0.300547   1.352934  ...         1.0   \n",
              "207311  -0.131458   0.692708  -0.744774   1.471385  ...         0.0   \n",
              "207312   0.326971   0.787460   0.682498  -0.608661  ...         0.0   \n",
              "207313  -0.207202   1.060795  -0.431977  -0.799195  ...         0.0   \n",
              "\n",
              "        Pleural Effusion  Pleural Other  Pneumonia  Pneumothorax  \\\n",
              "0                    0.0            0.0        0.0           0.0   \n",
              "1                    0.0            0.0        0.0           0.0   \n",
              "2                    0.0            0.0        0.0           0.0   \n",
              "3                    0.0            0.0        0.0           0.0   \n",
              "4                    0.0            0.0        0.0           0.0   \n",
              "...                  ...            ...        ...           ...   \n",
              "207309               0.0            0.0        0.0           0.0   \n",
              "207310               0.0            0.0        0.0           0.0   \n",
              "207311               0.0            0.0        0.0           0.0   \n",
              "207312               0.0            0.0        0.0           0.0   \n",
              "207313               0.0            0.0        0.0           0.0   \n",
              "\n",
              "        Support Devices  gender  insurance  anchor_age     race  \n",
              "0                   0.0       F   Medicaid        52.0    WHITE  \n",
              "1                   0.0       F   Medicaid        52.0    WHITE  \n",
              "2                   0.0       F   Medicaid        52.0    WHITE  \n",
              "3                   0.0       F   Medicaid        52.0    WHITE  \n",
              "4                   0.0       F   Medicaid        52.0    WHITE  \n",
              "...                 ...     ...        ...         ...      ...  \n",
              "207309              0.0       F      Other        19.0    WHITE  \n",
              "207310              0.0       F      Other        19.0    WHITE  \n",
              "207311              0.0       F      Other        57.0  UNKNOWN  \n",
              "207312              1.0       F      Other        57.0  UNKNOWN  \n",
              "207313              0.0       F      Other        57.0  UNKNOWN  \n",
              "\n",
              "[207314 rows x 1394 columns]"
            ],
            "text/html": [
              "\n",
              "  <div id=\"df-82445497-1d7e-46cc-bc35-80539032f5a7\" class=\"colab-df-container\">\n",
              "    <div>\n",
              "<style scoped>\n",
              "    .dataframe tbody tr th:only-of-type {\n",
              "        vertical-align: middle;\n",
              "    }\n",
              "\n",
              "    .dataframe tbody tr th {\n",
              "        vertical-align: top;\n",
              "    }\n",
              "\n",
              "    .dataframe thead th {\n",
              "        text-align: right;\n",
              "    }\n",
              "</style>\n",
              "<table border=\"1\" class=\"dataframe\">\n",
              "  <thead>\n",
              "    <tr style=\"text-align: right;\">\n",
              "      <th></th>\n",
              "      <th>feature_0</th>\n",
              "      <th>feature_1</th>\n",
              "      <th>feature_2</th>\n",
              "      <th>feature_3</th>\n",
              "      <th>feature_4</th>\n",
              "      <th>feature_5</th>\n",
              "      <th>feature_6</th>\n",
              "      <th>feature_7</th>\n",
              "      <th>feature_8</th>\n",
              "      <th>feature_9</th>\n",
              "      <th>...</th>\n",
              "      <th>No Finding</th>\n",
              "      <th>Pleural Effusion</th>\n",
              "      <th>Pleural Other</th>\n",
              "      <th>Pneumonia</th>\n",
              "      <th>Pneumothorax</th>\n",
              "      <th>Support Devices</th>\n",
              "      <th>gender</th>\n",
              "      <th>insurance</th>\n",
              "      <th>anchor_age</th>\n",
              "      <th>race</th>\n",
              "    </tr>\n",
              "  </thead>\n",
              "  <tbody>\n",
              "    <tr>\n",
              "      <th>0</th>\n",
              "      <td>0.125711</td>\n",
              "      <td>-1.803007</td>\n",
              "      <td>1.284251</td>\n",
              "      <td>-1.808832</td>\n",
              "      <td>0.127820</td>\n",
              "      <td>-0.191196</td>\n",
              "      <td>0.609272</td>\n",
              "      <td>0.830579</td>\n",
              "      <td>-0.443789</td>\n",
              "      <td>1.238895</td>\n",
              "      <td>...</td>\n",
              "      <td>1.0</td>\n",
              "      <td>0.0</td>\n",
              "      <td>0.0</td>\n",
              "      <td>0.0</td>\n",
              "      <td>0.0</td>\n",
              "      <td>0.0</td>\n",
              "      <td>F</td>\n",
              "      <td>Medicaid</td>\n",
              "      <td>52.0</td>\n",
              "      <td>WHITE</td>\n",
              "    </tr>\n",
              "    <tr>\n",
              "      <th>1</th>\n",
              "      <td>0.189455</td>\n",
              "      <td>-1.818042</td>\n",
              "      <td>1.320364</td>\n",
              "      <td>-2.396976</td>\n",
              "      <td>0.120655</td>\n",
              "      <td>-0.262529</td>\n",
              "      <td>0.738478</td>\n",
              "      <td>0.056799</td>\n",
              "      <td>-0.246806</td>\n",
              "      <td>0.450312</td>\n",
              "      <td>...</td>\n",
              "      <td>1.0</td>\n",
              "      <td>0.0</td>\n",
              "      <td>0.0</td>\n",
              "      <td>0.0</td>\n",
              "      <td>0.0</td>\n",
              "      <td>0.0</td>\n",
              "      <td>F</td>\n",
              "      <td>Medicaid</td>\n",
              "      <td>52.0</td>\n",
              "      <td>WHITE</td>\n",
              "    </tr>\n",
              "    <tr>\n",
              "      <th>2</th>\n",
              "      <td>-0.466300</td>\n",
              "      <td>-1.172919</td>\n",
              "      <td>0.114043</td>\n",
              "      <td>-1.868590</td>\n",
              "      <td>0.553166</td>\n",
              "      <td>0.417780</td>\n",
              "      <td>0.734430</td>\n",
              "      <td>0.003140</td>\n",
              "      <td>-0.292678</td>\n",
              "      <td>0.740896</td>\n",
              "      <td>...</td>\n",
              "      <td>1.0</td>\n",
              "      <td>0.0</td>\n",
              "      <td>0.0</td>\n",
              "      <td>0.0</td>\n",
              "      <td>0.0</td>\n",
              "      <td>0.0</td>\n",
              "      <td>F</td>\n",
              "      <td>Medicaid</td>\n",
              "      <td>52.0</td>\n",
              "      <td>WHITE</td>\n",
              "    </tr>\n",
              "    <tr>\n",
              "      <th>3</th>\n",
              "      <td>-0.507073</td>\n",
              "      <td>-1.562280</td>\n",
              "      <td>0.377472</td>\n",
              "      <td>-1.541743</td>\n",
              "      <td>0.293578</td>\n",
              "      <td>0.306945</td>\n",
              "      <td>0.647620</td>\n",
              "      <td>-0.074701</td>\n",
              "      <td>0.160979</td>\n",
              "      <td>0.329081</td>\n",
              "      <td>...</td>\n",
              "      <td>1.0</td>\n",
              "      <td>0.0</td>\n",
              "      <td>0.0</td>\n",
              "      <td>0.0</td>\n",
              "      <td>0.0</td>\n",
              "      <td>0.0</td>\n",
              "      <td>F</td>\n",
              "      <td>Medicaid</td>\n",
              "      <td>52.0</td>\n",
              "      <td>WHITE</td>\n",
              "    </tr>\n",
              "    <tr>\n",
              "      <th>4</th>\n",
              "      <td>-0.200524</td>\n",
              "      <td>-1.818057</td>\n",
              "      <td>0.725834</td>\n",
              "      <td>-2.209781</td>\n",
              "      <td>0.394925</td>\n",
              "      <td>-0.662887</td>\n",
              "      <td>0.430449</td>\n",
              "      <td>0.138520</td>\n",
              "      <td>0.443141</td>\n",
              "      <td>1.002451</td>\n",
              "      <td>...</td>\n",
              "      <td>1.0</td>\n",
              "      <td>0.0</td>\n",
              "      <td>0.0</td>\n",
              "      <td>0.0</td>\n",
              "      <td>0.0</td>\n",
              "      <td>0.0</td>\n",
              "      <td>F</td>\n",
              "      <td>Medicaid</td>\n",
              "      <td>52.0</td>\n",
              "      <td>WHITE</td>\n",
              "    </tr>\n",
              "    <tr>\n",
              "      <th>...</th>\n",
              "      <td>...</td>\n",
              "      <td>...</td>\n",
              "      <td>...</td>\n",
              "      <td>...</td>\n",
              "      <td>...</td>\n",
              "      <td>...</td>\n",
              "      <td>...</td>\n",
              "      <td>...</td>\n",
              "      <td>...</td>\n",
              "      <td>...</td>\n",
              "      <td>...</td>\n",
              "      <td>...</td>\n",
              "      <td>...</td>\n",
              "      <td>...</td>\n",
              "      <td>...</td>\n",
              "      <td>...</td>\n",
              "      <td>...</td>\n",
              "      <td>...</td>\n",
              "      <td>...</td>\n",
              "      <td>...</td>\n",
              "      <td>...</td>\n",
              "    </tr>\n",
              "    <tr>\n",
              "      <th>207309</th>\n",
              "      <td>0.084385</td>\n",
              "      <td>-1.828303</td>\n",
              "      <td>0.807940</td>\n",
              "      <td>-0.793703</td>\n",
              "      <td>0.613876</td>\n",
              "      <td>-0.215462</td>\n",
              "      <td>0.361803</td>\n",
              "      <td>-0.010056</td>\n",
              "      <td>0.053416</td>\n",
              "      <td>1.002149</td>\n",
              "      <td>...</td>\n",
              "      <td>1.0</td>\n",
              "      <td>0.0</td>\n",
              "      <td>0.0</td>\n",
              "      <td>0.0</td>\n",
              "      <td>0.0</td>\n",
              "      <td>0.0</td>\n",
              "      <td>F</td>\n",
              "      <td>Other</td>\n",
              "      <td>19.0</td>\n",
              "      <td>WHITE</td>\n",
              "    </tr>\n",
              "    <tr>\n",
              "      <th>207310</th>\n",
              "      <td>-0.327731</td>\n",
              "      <td>-2.051952</td>\n",
              "      <td>1.055242</td>\n",
              "      <td>-0.676235</td>\n",
              "      <td>0.851157</td>\n",
              "      <td>-0.242834</td>\n",
              "      <td>0.080449</td>\n",
              "      <td>0.220710</td>\n",
              "      <td>-0.300547</td>\n",
              "      <td>1.352934</td>\n",
              "      <td>...</td>\n",
              "      <td>1.0</td>\n",
              "      <td>0.0</td>\n",
              "      <td>0.0</td>\n",
              "      <td>0.0</td>\n",
              "      <td>0.0</td>\n",
              "      <td>0.0</td>\n",
              "      <td>F</td>\n",
              "      <td>Other</td>\n",
              "      <td>19.0</td>\n",
              "      <td>WHITE</td>\n",
              "    </tr>\n",
              "    <tr>\n",
              "      <th>207311</th>\n",
              "      <td>0.593066</td>\n",
              "      <td>-1.939155</td>\n",
              "      <td>0.648141</td>\n",
              "      <td>-2.380389</td>\n",
              "      <td>0.197016</td>\n",
              "      <td>0.044840</td>\n",
              "      <td>-0.131458</td>\n",
              "      <td>0.692708</td>\n",
              "      <td>-0.744774</td>\n",
              "      <td>1.471385</td>\n",
              "      <td>...</td>\n",
              "      <td>0.0</td>\n",
              "      <td>0.0</td>\n",
              "      <td>0.0</td>\n",
              "      <td>0.0</td>\n",
              "      <td>0.0</td>\n",
              "      <td>0.0</td>\n",
              "      <td>F</td>\n",
              "      <td>Other</td>\n",
              "      <td>57.0</td>\n",
              "      <td>UNKNOWN</td>\n",
              "    </tr>\n",
              "    <tr>\n",
              "      <th>207312</th>\n",
              "      <td>-0.033412</td>\n",
              "      <td>-1.678429</td>\n",
              "      <td>0.760117</td>\n",
              "      <td>-2.032235</td>\n",
              "      <td>-0.698559</td>\n",
              "      <td>-0.458091</td>\n",
              "      <td>0.326971</td>\n",
              "      <td>0.787460</td>\n",
              "      <td>0.682498</td>\n",
              "      <td>-0.608661</td>\n",
              "      <td>...</td>\n",
              "      <td>0.0</td>\n",
              "      <td>0.0</td>\n",
              "      <td>0.0</td>\n",
              "      <td>0.0</td>\n",
              "      <td>0.0</td>\n",
              "      <td>1.0</td>\n",
              "      <td>F</td>\n",
              "      <td>Other</td>\n",
              "      <td>57.0</td>\n",
              "      <td>UNKNOWN</td>\n",
              "    </tr>\n",
              "    <tr>\n",
              "      <th>207313</th>\n",
              "      <td>0.976150</td>\n",
              "      <td>-2.210915</td>\n",
              "      <td>0.610553</td>\n",
              "      <td>-2.533222</td>\n",
              "      <td>-0.343018</td>\n",
              "      <td>0.310838</td>\n",
              "      <td>-0.207202</td>\n",
              "      <td>1.060795</td>\n",
              "      <td>-0.431977</td>\n",
              "      <td>-0.799195</td>\n",
              "      <td>...</td>\n",
              "      <td>0.0</td>\n",
              "      <td>0.0</td>\n",
              "      <td>0.0</td>\n",
              "      <td>0.0</td>\n",
              "      <td>0.0</td>\n",
              "      <td>0.0</td>\n",
              "      <td>F</td>\n",
              "      <td>Other</td>\n",
              "      <td>57.0</td>\n",
              "      <td>UNKNOWN</td>\n",
              "    </tr>\n",
              "  </tbody>\n",
              "</table>\n",
              "<p>207314 rows × 1394 columns</p>\n",
              "</div>\n",
              "    <div class=\"colab-df-buttons\">\n",
              "\n",
              "  <div class=\"colab-df-container\">\n",
              "    <button class=\"colab-df-convert\" onclick=\"convertToInteractive('df-82445497-1d7e-46cc-bc35-80539032f5a7')\"\n",
              "            title=\"Convert this dataframe to an interactive table.\"\n",
              "            style=\"display:none;\">\n",
              "\n",
              "  <svg xmlns=\"http://www.w3.org/2000/svg\" height=\"24px\" viewBox=\"0 -960 960 960\">\n",
              "    <path d=\"M120-120v-720h720v720H120Zm60-500h600v-160H180v160Zm220 220h160v-160H400v160Zm0 220h160v-160H400v160ZM180-400h160v-160H180v160Zm440 0h160v-160H620v160ZM180-180h160v-160H180v160Zm440 0h160v-160H620v160Z\"/>\n",
              "  </svg>\n",
              "    </button>\n",
              "\n",
              "  <style>\n",
              "    .colab-df-container {\n",
              "      display:flex;\n",
              "      gap: 12px;\n",
              "    }\n",
              "\n",
              "    .colab-df-convert {\n",
              "      background-color: #E8F0FE;\n",
              "      border: none;\n",
              "      border-radius: 50%;\n",
              "      cursor: pointer;\n",
              "      display: none;\n",
              "      fill: #1967D2;\n",
              "      height: 32px;\n",
              "      padding: 0 0 0 0;\n",
              "      width: 32px;\n",
              "    }\n",
              "\n",
              "    .colab-df-convert:hover {\n",
              "      background-color: #E2EBFA;\n",
              "      box-shadow: 0px 1px 2px rgba(60, 64, 67, 0.3), 0px 1px 3px 1px rgba(60, 64, 67, 0.15);\n",
              "      fill: #174EA6;\n",
              "    }\n",
              "\n",
              "    .colab-df-buttons div {\n",
              "      margin-bottom: 4px;\n",
              "    }\n",
              "\n",
              "    [theme=dark] .colab-df-convert {\n",
              "      background-color: #3B4455;\n",
              "      fill: #D2E3FC;\n",
              "    }\n",
              "\n",
              "    [theme=dark] .colab-df-convert:hover {\n",
              "      background-color: #434B5C;\n",
              "      box-shadow: 0px 1px 3px 1px rgba(0, 0, 0, 0.15);\n",
              "      filter: drop-shadow(0px 1px 2px rgba(0, 0, 0, 0.3));\n",
              "      fill: #FFFFFF;\n",
              "    }\n",
              "  </style>\n",
              "\n",
              "    <script>\n",
              "      const buttonEl =\n",
              "        document.querySelector('#df-82445497-1d7e-46cc-bc35-80539032f5a7 button.colab-df-convert');\n",
              "      buttonEl.style.display =\n",
              "        google.colab.kernel.accessAllowed ? 'block' : 'none';\n",
              "\n",
              "      async function convertToInteractive(key) {\n",
              "        const element = document.querySelector('#df-82445497-1d7e-46cc-bc35-80539032f5a7');\n",
              "        const dataTable =\n",
              "          await google.colab.kernel.invokeFunction('convertToInteractive',\n",
              "                                                    [key], {});\n",
              "        if (!dataTable) return;\n",
              "\n",
              "        const docLinkHtml = 'Like what you see? Visit the ' +\n",
              "          '<a target=\"_blank\" href=https://colab.research.google.com/notebooks/data_table.ipynb>data table notebook</a>'\n",
              "          + ' to learn more about interactive tables.';\n",
              "        element.innerHTML = '';\n",
              "        dataTable['output_type'] = 'display_data';\n",
              "        await google.colab.output.renderOutput(dataTable, element);\n",
              "        const docLink = document.createElement('div');\n",
              "        docLink.innerHTML = docLinkHtml;\n",
              "        element.appendChild(docLink);\n",
              "      }\n",
              "    </script>\n",
              "  </div>\n",
              "\n",
              "\n",
              "<div id=\"df-ad80f652-62f3-4a4d-bf79-5626d917e495\">\n",
              "  <button class=\"colab-df-quickchart\" onclick=\"quickchart('df-ad80f652-62f3-4a4d-bf79-5626d917e495')\"\n",
              "            title=\"Suggest charts\"\n",
              "            style=\"display:none;\">\n",
              "\n",
              "<svg xmlns=\"http://www.w3.org/2000/svg\" height=\"24px\"viewBox=\"0 0 24 24\"\n",
              "     width=\"24px\">\n",
              "    <g>\n",
              "        <path d=\"M19 3H5c-1.1 0-2 .9-2 2v14c0 1.1.9 2 2 2h14c1.1 0 2-.9 2-2V5c0-1.1-.9-2-2-2zM9 17H7v-7h2v7zm4 0h-2V7h2v10zm4 0h-2v-4h2v4z\"/>\n",
              "    </g>\n",
              "</svg>\n",
              "  </button>\n",
              "\n",
              "<style>\n",
              "  .colab-df-quickchart {\n",
              "      --bg-color: #E8F0FE;\n",
              "      --fill-color: #1967D2;\n",
              "      --hover-bg-color: #E2EBFA;\n",
              "      --hover-fill-color: #174EA6;\n",
              "      --disabled-fill-color: #AAA;\n",
              "      --disabled-bg-color: #DDD;\n",
              "  }\n",
              "\n",
              "  [theme=dark] .colab-df-quickchart {\n",
              "      --bg-color: #3B4455;\n",
              "      --fill-color: #D2E3FC;\n",
              "      --hover-bg-color: #434B5C;\n",
              "      --hover-fill-color: #FFFFFF;\n",
              "      --disabled-bg-color: #3B4455;\n",
              "      --disabled-fill-color: #666;\n",
              "  }\n",
              "\n",
              "  .colab-df-quickchart {\n",
              "    background-color: var(--bg-color);\n",
              "    border: none;\n",
              "    border-radius: 50%;\n",
              "    cursor: pointer;\n",
              "    display: none;\n",
              "    fill: var(--fill-color);\n",
              "    height: 32px;\n",
              "    padding: 0;\n",
              "    width: 32px;\n",
              "  }\n",
              "\n",
              "  .colab-df-quickchart:hover {\n",
              "    background-color: var(--hover-bg-color);\n",
              "    box-shadow: 0 1px 2px rgba(60, 64, 67, 0.3), 0 1px 3px 1px rgba(60, 64, 67, 0.15);\n",
              "    fill: var(--button-hover-fill-color);\n",
              "  }\n",
              "\n",
              "  .colab-df-quickchart-complete:disabled,\n",
              "  .colab-df-quickchart-complete:disabled:hover {\n",
              "    background-color: var(--disabled-bg-color);\n",
              "    fill: var(--disabled-fill-color);\n",
              "    box-shadow: none;\n",
              "  }\n",
              "\n",
              "  .colab-df-spinner {\n",
              "    border: 2px solid var(--fill-color);\n",
              "    border-color: transparent;\n",
              "    border-bottom-color: var(--fill-color);\n",
              "    animation:\n",
              "      spin 1s steps(1) infinite;\n",
              "  }\n",
              "\n",
              "  @keyframes spin {\n",
              "    0% {\n",
              "      border-color: transparent;\n",
              "      border-bottom-color: var(--fill-color);\n",
              "      border-left-color: var(--fill-color);\n",
              "    }\n",
              "    20% {\n",
              "      border-color: transparent;\n",
              "      border-left-color: var(--fill-color);\n",
              "      border-top-color: var(--fill-color);\n",
              "    }\n",
              "    30% {\n",
              "      border-color: transparent;\n",
              "      border-left-color: var(--fill-color);\n",
              "      border-top-color: var(--fill-color);\n",
              "      border-right-color: var(--fill-color);\n",
              "    }\n",
              "    40% {\n",
              "      border-color: transparent;\n",
              "      border-right-color: var(--fill-color);\n",
              "      border-top-color: var(--fill-color);\n",
              "    }\n",
              "    60% {\n",
              "      border-color: transparent;\n",
              "      border-right-color: var(--fill-color);\n",
              "    }\n",
              "    80% {\n",
              "      border-color: transparent;\n",
              "      border-right-color: var(--fill-color);\n",
              "      border-bottom-color: var(--fill-color);\n",
              "    }\n",
              "    90% {\n",
              "      border-color: transparent;\n",
              "      border-bottom-color: var(--fill-color);\n",
              "    }\n",
              "  }\n",
              "</style>\n",
              "\n",
              "  <script>\n",
              "    async function quickchart(key) {\n",
              "      const quickchartButtonEl =\n",
              "        document.querySelector('#' + key + ' button');\n",
              "      quickchartButtonEl.disabled = true;  // To prevent multiple clicks.\n",
              "      quickchartButtonEl.classList.add('colab-df-spinner');\n",
              "      try {\n",
              "        const charts = await google.colab.kernel.invokeFunction(\n",
              "            'suggestCharts', [key], {});\n",
              "      } catch (error) {\n",
              "        console.error('Error during call to suggestCharts:', error);\n",
              "      }\n",
              "      quickchartButtonEl.classList.remove('colab-df-spinner');\n",
              "      quickchartButtonEl.classList.add('colab-df-quickchart-complete');\n",
              "    }\n",
              "    (() => {\n",
              "      let quickchartButtonEl =\n",
              "        document.querySelector('#df-ad80f652-62f3-4a4d-bf79-5626d917e495 button');\n",
              "      quickchartButtonEl.style.display =\n",
              "        google.colab.kernel.accessAllowed ? 'block' : 'none';\n",
              "    })();\n",
              "  </script>\n",
              "</div>\n",
              "\n",
              "  <div id=\"id_7f6a3fab-e926-48ab-a472-d849ff538859\">\n",
              "    <style>\n",
              "      .colab-df-generate {\n",
              "        background-color: #E8F0FE;\n",
              "        border: none;\n",
              "        border-radius: 50%;\n",
              "        cursor: pointer;\n",
              "        display: none;\n",
              "        fill: #1967D2;\n",
              "        height: 32px;\n",
              "        padding: 0 0 0 0;\n",
              "        width: 32px;\n",
              "      }\n",
              "\n",
              "      .colab-df-generate:hover {\n",
              "        background-color: #E2EBFA;\n",
              "        box-shadow: 0px 1px 2px rgba(60, 64, 67, 0.3), 0px 1px 3px 1px rgba(60, 64, 67, 0.15);\n",
              "        fill: #174EA6;\n",
              "      }\n",
              "\n",
              "      [theme=dark] .colab-df-generate {\n",
              "        background-color: #3B4455;\n",
              "        fill: #D2E3FC;\n",
              "      }\n",
              "\n",
              "      [theme=dark] .colab-df-generate:hover {\n",
              "        background-color: #434B5C;\n",
              "        box-shadow: 0px 1px 3px 1px rgba(0, 0, 0, 0.15);\n",
              "        filter: drop-shadow(0px 1px 2px rgba(0, 0, 0, 0.3));\n",
              "        fill: #FFFFFF;\n",
              "      }\n",
              "    </style>\n",
              "    <button class=\"colab-df-generate\" onclick=\"generateWithVariable('train_df')\"\n",
              "            title=\"Generate code using this dataframe.\"\n",
              "            style=\"display:none;\">\n",
              "\n",
              "  <svg xmlns=\"http://www.w3.org/2000/svg\" height=\"24px\"viewBox=\"0 0 24 24\"\n",
              "       width=\"24px\">\n",
              "    <path d=\"M7,19H8.4L18.45,9,17,7.55,7,17.6ZM5,21V16.75L18.45,3.32a2,2,0,0,1,2.83,0l1.4,1.43a1.91,1.91,0,0,1,.58,1.4,1.91,1.91,0,0,1-.58,1.4L9.25,21ZM18.45,9,17,7.55Zm-12,3A5.31,5.31,0,0,0,4.9,8.1,5.31,5.31,0,0,0,1,6.5,5.31,5.31,0,0,0,4.9,4.9,5.31,5.31,0,0,0,6.5,1,5.31,5.31,0,0,0,8.1,4.9,5.31,5.31,0,0,0,12,6.5,5.46,5.46,0,0,0,6.5,12Z\"/>\n",
              "  </svg>\n",
              "    </button>\n",
              "    <script>\n",
              "      (() => {\n",
              "      const buttonEl =\n",
              "        document.querySelector('#id_7f6a3fab-e926-48ab-a472-d849ff538859 button.colab-df-generate');\n",
              "      buttonEl.style.display =\n",
              "        google.colab.kernel.accessAllowed ? 'block' : 'none';\n",
              "\n",
              "      buttonEl.onclick = () => {\n",
              "        google.colab.notebook.generateWithVariable('train_df');\n",
              "      }\n",
              "      })();\n",
              "    </script>\n",
              "  </div>\n",
              "\n",
              "    </div>\n",
              "  </div>\n"
            ],
            "application/vnd.google.colaboratory.intrinsic+json": {
              "type": "dataframe",
              "variable_name": "train_df"
            }
          },
          "metadata": {},
          "execution_count": 3
        }
      ]
    },
    {
      "cell_type": "code",
      "source": [
        "# Select columns of embedding only (recall each embedding vector was a size of 1376 values)\n",
        "train_df_embedding_columns = train_df.iloc[:, 0:1376]\n",
        "print(train_df_embedding_columns.shape)\n",
        "print(train_df_embedding_columns.columns)"
      ],
      "metadata": {
        "colab": {
          "base_uri": "https://localhost:8080/"
        },
        "id": "vWu0N2ic8shx",
        "outputId": "70387532-3171-43f8-a16d-ebc3b8133591"
      },
      "execution_count": null,
      "outputs": [
        {
          "output_type": "stream",
          "name": "stdout",
          "text": [
            "(207314, 1376)\n",
            "Index(['feature_0', 'feature_1', 'feature_2', 'feature_3', 'feature_4',\n",
            "       'feature_5', 'feature_6', 'feature_7', 'feature_8', 'feature_9',\n",
            "       ...\n",
            "       'feature_1366', 'feature_1367', 'feature_1368', 'feature_1369',\n",
            "       'feature_1370', 'feature_1371', 'feature_1372', 'feature_1373',\n",
            "       'feature_1374', 'feature_1375'],\n",
            "      dtype='object', length=1376)\n"
          ]
        }
      ]
    },
    {
      "cell_type": "code",
      "source": [
        "# Merge 1376 columns into 1 vector embedding for each row\n",
        "all_embeddings = train_df_embedding_columns.values\n",
        "print(len(all_embeddings))\n",
        "print(all_embeddings)\n",
        "print(all_embeddings[0].shape)"
      ],
      "metadata": {
        "colab": {
          "base_uri": "https://localhost:8080/"
        },
        "id": "5klSfUeU9NRN",
        "outputId": "b9ac1d21-a57a-49b0-f518-30189162a400"
      },
      "execution_count": null,
      "outputs": [
        {
          "output_type": "stream",
          "name": "stdout",
          "text": [
            "207314\n",
            "[[ 0.12571079 -1.8030074   1.2842511  ... -0.7076767   1.0859656\n",
            "   0.02559637]\n",
            " [ 0.18945463 -1.818042    1.3203645  ... -1.3234656   1.4244304\n",
            "  -0.26066294]\n",
            " [-0.4663002  -1.1729188   0.11404295 ... -1.080736    0.6743026\n",
            "  -0.33340642]\n",
            " ...\n",
            " [ 0.5930662  -1.9391551   0.6481414  ... -1.0502896  -0.48815688\n",
            "  -1.756902  ]\n",
            " [-0.03341227 -1.678429    0.76011676 ... -1.6180495   0.64806\n",
            "  -1.2408257 ]\n",
            " [ 0.9761496  -2.2109149   0.61055285 ... -1.4995803   0.6610715\n",
            "  -1.7800003 ]]\n",
            "(1376,)\n"
          ]
        }
      ]
    },
    {
      "cell_type": "markdown",
      "source": [
        "## Clustering Methods"
      ],
      "metadata": {
        "id": "geUlvpkP_h6r"
      }
    },
    {
      "cell_type": "markdown",
      "source": [
        "### K-Means using Faiss K-Means\n",
        "This is the library that SemDeDup and FairDeDup used."
      ],
      "metadata": {
        "id": "mCor_D9szXG1"
      }
    },
    {
      "cell_type": "code",
      "source": [
        "pip install faiss-cpu"
      ],
      "metadata": {
        "colab": {
          "base_uri": "https://localhost:8080/"
        },
        "id": "UhdiuFQ2zZOw",
        "outputId": "8e6a518c-9508-4248-8a8e-69b82d46b0e9"
      },
      "execution_count": null,
      "outputs": [
        {
          "output_type": "stream",
          "name": "stdout",
          "text": [
            "Collecting faiss-cpu\n",
            "  Downloading faiss_cpu-1.10.0-cp311-cp311-manylinux_2_28_x86_64.whl.metadata (4.4 kB)\n",
            "Requirement already satisfied: numpy<3.0,>=1.25.0 in /usr/local/lib/python3.11/dist-packages (from faiss-cpu) (2.0.2)\n",
            "Requirement already satisfied: packaging in /usr/local/lib/python3.11/dist-packages (from faiss-cpu) (24.2)\n",
            "Downloading faiss_cpu-1.10.0-cp311-cp311-manylinux_2_28_x86_64.whl (30.7 MB)\n",
            "\u001b[2K   \u001b[90m━━━━━━━━━━━━━━━━━━━━━━━━━━━━━━━━━━━━━━━━\u001b[0m \u001b[32m30.7/30.7 MB\u001b[0m \u001b[31m15.3 MB/s\u001b[0m eta \u001b[36m0:00:00\u001b[0m\n",
            "\u001b[?25hInstalling collected packages: faiss-cpu\n",
            "Successfully installed faiss-cpu-1.10.0\n"
          ]
        }
      ]
    },
    {
      "cell_type": "code",
      "source": [
        "D = all_embeddings.shape[1]  # Get embedding dimension"
      ],
      "metadata": {
        "id": "YUl24uiVzomy"
      },
      "execution_count": null,
      "outputs": []
    },
    {
      "cell_type": "code",
      "source": [
        "print(D)"
      ],
      "metadata": {
        "colab": {
          "base_uri": "https://localhost:8080/"
        },
        "id": "K0NUCzorzqBv",
        "outputId": "031be86b-74c3-4db2-9ac9-24576c9f5890"
      },
      "execution_count": null,
      "outputs": [
        {
          "output_type": "stream",
          "name": "stdout",
          "text": [
            "1376\n"
          ]
        }
      ]
    },
    {
      "cell_type": "code",
      "source": [
        "import faiss\n",
        "import numpy as np\n",
        "\n",
        "# Assume embeddings is a (250000, D) NumPy array (D = embedding dimension)\n",
        "D = all_embeddings.shape[1]  # Get embedding dimension\n",
        "# num_clusters = 1000\n",
        "num_clusters = 500\n",
        "# num_clusters = 1500\n",
        "\n",
        "# Initialize Faiss KMeans\n",
        "kmeans = faiss.Kmeans(D, num_clusters, niter=100, verbose=True)\n",
        "\n",
        "# Train the KMeans model\n",
        "kmeans.train(all_embeddings.astype(np.float32))  # Faiss requires float32\n",
        "\n",
        "# Assign clusters\n",
        "distances, cluster_assignments = kmeans.index.search(all_embeddings.astype(np.float32), 1)\n",
        "\n",
        "# Convert to Python list\n",
        "cluster_assignments = cluster_assignments.flatten()"
      ],
      "metadata": {
        "id": "D73h3TE5zftZ"
      },
      "execution_count": null,
      "outputs": []
    },
    {
      "cell_type": "code",
      "source": [
        "print(cluster_assignments.shape)"
      ],
      "metadata": {
        "colab": {
          "base_uri": "https://localhost:8080/"
        },
        "id": "KYfF3g3X4_PI",
        "outputId": "684b6efb-30d6-4ace-93b7-07c971dc072d"
      },
      "execution_count": null,
      "outputs": [
        {
          "output_type": "stream",
          "name": "stdout",
          "text": [
            "(207314,)\n"
          ]
        }
      ]
    },
    {
      "cell_type": "code",
      "source": [
        "print(type(cluster_assignments))"
      ],
      "metadata": {
        "colab": {
          "base_uri": "https://localhost:8080/"
        },
        "id": "Ns5P5Mbm5DqF",
        "outputId": "98c7b00d-c8c0-41a7-90f1-b5249f7caa26"
      },
      "execution_count": null,
      "outputs": [
        {
          "output_type": "stream",
          "name": "stdout",
          "text": [
            "<class 'numpy.ndarray'>\n"
          ]
        }
      ]
    },
    {
      "cell_type": "markdown",
      "source": [
        "Save clusters to a file"
      ],
      "metadata": {
        "id": "lxn5URAk7V-2"
      }
    },
    {
      "cell_type": "code",
      "source": [
        "with open('cluster_assignments_faiss','wb') as f: pickle.dump(cluster_assignments, f)"
      ],
      "metadata": {
        "id": "HKwNqhSI6Zua"
      },
      "execution_count": null,
      "outputs": []
    },
    {
      "cell_type": "code",
      "source": [
        "# with open('cluster_assignments_faiss','rb') as f: clusters = pickle.load(f)"
      ],
      "metadata": {
        "id": "gh4objSM6xct"
      },
      "execution_count": null,
      "outputs": []
    },
    {
      "cell_type": "markdown",
      "source": [
        "### K-Means using SciKit Learn"
      ],
      "metadata": {
        "id": "_LORjTlXvy_w"
      }
    },
    {
      "cell_type": "code",
      "source": [
        "from sklearn.cluster import KMeans\n",
        "\n",
        "import numpy as np\n",
        "\n",
        "# kmeans = KMeans(n_clusters=1000, random_state=0, n_init=\"auto\").fit(all_embeddings)\n",
        "kmeans = KMeans(n_clusters=500, random_state=0, n_init=\"auto\").fit(all_embeddings)\n",
        "# kmeans = KMeans(n_clusters=1500, random_state=0, n_init=\"auto\").fit(all_embeddings)"
      ],
      "metadata": {
        "id": "J7p4AXv8v3iB"
      },
      "execution_count": null,
      "outputs": []
    },
    {
      "cell_type": "code",
      "source": [
        "cluster_assignments = kmeans.labels_"
      ],
      "metadata": {
        "id": "R4P6XsdO__h2"
      },
      "execution_count": null,
      "outputs": []
    },
    {
      "cell_type": "code",
      "source": [
        "print(cluster_assignments.shape)\n",
        "print(cluster_assignments)"
      ],
      "metadata": {
        "colab": {
          "base_uri": "https://localhost:8080/"
        },
        "id": "2RaA1glPABRB",
        "outputId": "a9dbc5b7-ec33-412f-c9a4-d0e274457917"
      },
      "execution_count": null,
      "outputs": [
        {
          "output_type": "stream",
          "name": "stdout",
          "text": [
            "(207314,)\n",
            "[393 393 112 ...  53 174 183]\n"
          ]
        }
      ]
    },
    {
      "cell_type": "code",
      "source": [
        "# print the unique values and counts of all clusters in cluster_assignments\n",
        "unique_values, counts = np.unique(cluster_assignments, return_counts=True)\n",
        "print(unique_values)\n",
        "print(counts)"
      ],
      "metadata": {
        "colab": {
          "base_uri": "https://localhost:8080/"
        },
        "id": "Iiq6AJthAFiQ",
        "outputId": "47b76fec-b744-4ab7-9165-b68dbedd0377"
      },
      "execution_count": null,
      "outputs": [
        {
          "output_type": "stream",
          "name": "stdout",
          "text": [
            "[  0   1   2   3   4   5   6   7   8   9  10  11  12  13  14  15  16  17\n",
            "  18  19  20  21  22  23  24  25  26  27  28  29  30  31  32  33  34  35\n",
            "  36  37  38  39  40  41  42  43  44  45  46  47  48  49  50  51  52  53\n",
            "  54  55  56  57  58  59  60  61  62  63  64  65  66  67  68  69  70  71\n",
            "  72  73  74  75  76  77  78  79  80  81  82  83  84  85  86  87  88  89\n",
            "  90  91  92  93  94  95  96  97  98  99 100 101 102 103 104 105 106 107\n",
            " 108 109 110 111 112 113 114 115 116 117 118 119 120 121 122 123 124 125\n",
            " 126 127 128 129 130 131 132 133 134 135 136 137 138 139 140 141 142 143\n",
            " 144 145 146 147 148 149 150 151 152 153 154 155 156 157 158 159 160 161\n",
            " 162 163 164 165 166 167 168 169 170 171 172 173 174 175 176 177 178 179\n",
            " 180 181 182 183 184 185 186 187 188 189 190 191 192 193 194 195 196 197\n",
            " 198 199 200 201 202 203 204 205 206 207 208 209 210 211 212 213 214 215\n",
            " 216 217 218 219 220 221 222 223 224 225 226 227 228 229 230 231 232 233\n",
            " 234 235 236 237 238 239 240 241 242 243 244 245 246 247 248 249 250 251\n",
            " 252 253 254 255 256 257 258 259 260 261 262 263 264 265 266 267 268 269\n",
            " 270 271 272 273 274 275 276 277 278 279 280 281 282 283 284 285 286 287\n",
            " 288 289 290 291 292 293 294 295 296 297 298 299 300 301 302 303 304 305\n",
            " 306 307 308 309 310 311 312 313 314 315 316 317 318 319 320 321 322 323\n",
            " 324 325 326 327 328 329 330 331 332 333 334 335 336 337 338 339 340 341\n",
            " 342 343 344 345 346 347 348 349 350 351 352 353 354 355 356 357 358 359\n",
            " 360 361 362 363 364 365 366 367 368 369 370 371 372 373 374 375 376 377\n",
            " 378 379 380 381 382 383 384 385 386 387 388 389 390 391 392 393 394 395\n",
            " 396 397 398 399 400 401 402 403 404 405 406 407 408 409 410 411 412 413\n",
            " 414 415 416 417 418 419 420 421 422 423 424 425 426 427 428 429 430 431\n",
            " 432 433 434 435 436 437 438 439 440 441 442 443 444 445 446 447 448 449\n",
            " 450 451 452 453 454 455 456 457 458 459 460 461 462 463 464 465 466 467\n",
            " 468 469 470 471 472 473 474 475 476 477 478 479 480 481 482 483 484 485\n",
            " 486 487 488 489 490 491 492 493 494 495 496 497 498 499]\n",
            "[406 405 479 299 391 501 510 407 638 431 456 467 705 520 240 441 541 406\n",
            " 359 222 568 369 536 458 292 292 377 455 614 257 359 357 300 456 564 226\n",
            " 500 511 321 388 412 314 483 434 162 247 340 741 239 555 623 698 326 484\n",
            " 689 619 483 604 369 606 243 451 282 516 392 635 329 448 318 376 338 529\n",
            " 415 277 448 353 340 380 367 230 565 399 346 412 524 359 394 541 674 683\n",
            " 559 494 379 479 484 227 280 576 446 567 349 326 359 638 577 636 201 359\n",
            "  67 156 154 298 573 617 537 619 421 530 479 457 560 676 310 556 494 513\n",
            " 640 565 217 392 264 769 286 681 281 482 294 218 329 663 373 356 350 560\n",
            " 554 285 215 485 395 428 482 207 362 516 289 317 624 384 343 408 322 558\n",
            " 174 452 342 349 548 648 413 158 487 347 377 484 540 282 554 225 581 327\n",
            " 640 531 209 421 223 478 455 332 455 385 554 530 306 664 421 451 347 543\n",
            " 296 526 471 249 326 306 602 456 351 321 393 520 202 537 219 255 663 743\n",
            " 159 620 439 367 712 265 308 458 368 439 511 248 266 396 319 704 434 364\n",
            " 493 221 327 547 488 494 456 603 505 272 116 437 618 354 830 587 447 522\n",
            " 449 522 622 234 390 716 441 897 353 658 436 372 270 694 367 607  68 561\n",
            " 520 384 598 261 262 316 540 289 413 401 211 556 408 294 157 473 402 349\n",
            " 218 244 333 495 655 339 426 497 473 444 539 341 275 189 862 817 343 581\n",
            " 562 477 284 445 437 445 382 379 517 355 224 446 185 743  30 532 271 314\n",
            " 244 247 244 408 221 614 139 339 266 441 163 455 382 551 506 630 284 102\n",
            " 372 562 397 724  96 215 201 220 366 132 443 521 409 341 421 385 472 375\n",
            " 361 373 386 519 374 343 477 446 447 277 523 531 355 326 365 332 238 359\n",
            " 525 274 606 393 529 621 244 385 477 439 463 242 530 344 222 364 233 518\n",
            " 555 279 321 664 691 327 413 559 231 638 212 441 402  83 501 210 442 426\n",
            " 550 200 437 724 158 603 679 291 396 246 288 262 368 419 480 215 663 315\n",
            " 405 375 592 252 484 338 513 365 502 308 266 474 529 270 237 407 526 356\n",
            " 313 247 462 162 524 793 548 371 257 183 181 447 371 471 433 434 384 292\n",
            " 278 339 515 385 351 433 187 717 107 648 461 140 461 450 355 641 466 115\n",
            " 206 389 372 332 336 180 487 424 603 578 464 196 302 490]\n"
          ]
        }
      ]
    },
    {
      "cell_type": "code",
      "source": [
        "with open('cluster_assignments_kmeans_500','wb') as f: pickle.dump(cluster_assignments, f)"
      ],
      "metadata": {
        "id": "NAwjDo0z_8OJ"
      },
      "execution_count": null,
      "outputs": []
    },
    {
      "cell_type": "code",
      "source": [
        "with open('cluster_assignments_kmeans_500','rb') as f: clusters = pickle.load(f)"
      ],
      "metadata": {
        "id": "Wy1GoTKPAg8u"
      },
      "execution_count": null,
      "outputs": []
    },
    {
      "cell_type": "code",
      "source": [
        "print(np.equal(cluster_assignments, clusters).all())"
      ],
      "metadata": {
        "id": "aRzYEEZQAqEe",
        "outputId": "2d4ccf30-9533-429f-c9bc-5c4c44449382",
        "colab": {
          "base_uri": "https://localhost:8080/"
        }
      },
      "execution_count": null,
      "outputs": [
        {
          "output_type": "stream",
          "name": "stdout",
          "text": [
            "True\n"
          ]
        }
      ]
    },
    {
      "cell_type": "code",
      "source": [
        "# print max value in cluster_assignments\n",
        "print(np.max(cluster_assignments))\n",
        "print(np.min(cluster_assignments))"
      ],
      "metadata": {
        "colab": {
          "base_uri": "https://localhost:8080/"
        },
        "id": "TkqwYvo7S9UU",
        "outputId": "c3d8745e-3b82-4eb7-a6ca-4a71ccfbc35e"
      },
      "execution_count": null,
      "outputs": [
        {
          "output_type": "stream",
          "name": "stdout",
          "text": [
            "499\n",
            "0\n"
          ]
        }
      ]
    },
    {
      "cell_type": "markdown",
      "source": [
        "### Mini-Batch K-Means"
      ],
      "metadata": {
        "id": "WlTsfORFAdIK"
      }
    },
    {
      "cell_type": "code",
      "execution_count": null,
      "metadata": {
        "colab": {
          "background_save": true
        },
        "id": "LlmI-wFtAm2R"
      },
      "outputs": [],
      "source": [
        "from sklearn.cluster import MiniBatchKMeans\n",
        "import numpy as np\n",
        "\n",
        "kmeans = MiniBatchKMeans(n_clusters=1000,\n",
        "                         random_state=0,\n",
        "                         batch_size=10000).fit(all_embeddings)"
      ]
    },
    {
      "cell_type": "code",
      "execution_count": null,
      "metadata": {
        "colab": {
          "base_uri": "https://localhost:8080/"
        },
        "id": "A3p9kpLU2VyA",
        "outputId": "385cb6cc-e5bf-4835-c309-9cc3342effcd"
      },
      "outputs": [
        {
          "name": "stdout",
          "output_type": "stream",
          "text": [
            "(1000, 1376)\n"
          ]
        }
      ],
      "source": [
        "print(kmeans.cluster_centers_.shape)"
      ]
    },
    {
      "cell_type": "code",
      "execution_count": null,
      "metadata": {
        "id": "UN1RqhWr5iPq"
      },
      "outputs": [],
      "source": [
        "# save to pickle file\n",
        "with open('cluster_assignments_minibatch.pkl', 'wb') as f: pickle.dump(kmeans.labels_, f)"
      ]
    },
    {
      "cell_type": "code",
      "execution_count": null,
      "metadata": {
        "colab": {
          "base_uri": "https://localhost:8080/"
        },
        "id": "EJQwJgW4AM4O",
        "outputId": "afbb9197-0811-4f76-a678-21303cc7c574"
      },
      "outputs": [
        {
          "name": "stdout",
          "output_type": "stream",
          "text": [
            "MiniBatchKMeans(batch_size=10000, n_clusters=1000, random_state=0)\n",
            "True\n"
          ]
        }
      ],
      "source": [
        "with open('cluster_assignments_minibatch', 'rb') as f: kmeans_test = pickle.load(f)\n",
        "print(kmeans_test)\n",
        "print(np.equal(kmeans.labels_, kmeans_test.labels_).all())"
      ]
    }
  ]
}